{
 "cells": [
  {
   "cell_type": "code",
   "execution_count": 33,
   "metadata": {},
   "outputs": [],
   "source": [
    "import pandas as pd"
   ]
  },
  {
   "cell_type": "code",
   "execution_count": 34,
   "metadata": {},
   "outputs": [],
   "source": [
    "data=pd.read_csv(f\"SaYoPillow.csv\")\n",
    "data.head()\n",
    "data.shape\n",
    "data.isnull().any()\n",
    "data.columns=['snoring_rate', 'respiration_rate', 'body_temperature', 'limb_movement', 'blood_oxygen', \\\n",
    "             'eye_movement', 'sleeping_hours', 'heart_rate', 'stress_level']\n"
   ]
  },
  {
   "cell_type": "code",
   "execution_count": 35,
   "metadata": {},
   "outputs": [
    {
     "data": {
      "text/html": [
       "<div>\n",
       "<style scoped>\n",
       "    .dataframe tbody tr th:only-of-type {\n",
       "        vertical-align: middle;\n",
       "    }\n",
       "\n",
       "    .dataframe tbody tr th {\n",
       "        vertical-align: top;\n",
       "    }\n",
       "\n",
       "    .dataframe thead th {\n",
       "        text-align: right;\n",
       "    }\n",
       "</style>\n",
       "<table border=\"1\" class=\"dataframe\">\n",
       "  <thead>\n",
       "    <tr style=\"text-align: right;\">\n",
       "      <th></th>\n",
       "      <th>respiration_rate</th>\n",
       "      <th>blood_oxygen</th>\n",
       "      <th>sleeping_hours</th>\n",
       "      <th>heart_rate</th>\n",
       "      <th>stress_level</th>\n",
       "    </tr>\n",
       "  </thead>\n",
       "  <tbody>\n",
       "    <tr>\n",
       "      <th>0</th>\n",
       "      <td>25.680</td>\n",
       "      <td>89.840</td>\n",
       "      <td>1.840</td>\n",
       "      <td>74.20</td>\n",
       "      <td>3</td>\n",
       "    </tr>\n",
       "    <tr>\n",
       "      <th>1</th>\n",
       "      <td>25.104</td>\n",
       "      <td>89.552</td>\n",
       "      <td>1.552</td>\n",
       "      <td>72.76</td>\n",
       "      <td>3</td>\n",
       "    </tr>\n",
       "    <tr>\n",
       "      <th>2</th>\n",
       "      <td>20.000</td>\n",
       "      <td>95.000</td>\n",
       "      <td>7.000</td>\n",
       "      <td>60.00</td>\n",
       "      <td>1</td>\n",
       "    </tr>\n",
       "    <tr>\n",
       "      <th>3</th>\n",
       "      <td>23.536</td>\n",
       "      <td>88.768</td>\n",
       "      <td>0.768</td>\n",
       "      <td>68.84</td>\n",
       "      <td>3</td>\n",
       "    </tr>\n",
       "    <tr>\n",
       "      <th>4</th>\n",
       "      <td>17.248</td>\n",
       "      <td>96.248</td>\n",
       "      <td>8.248</td>\n",
       "      <td>53.12</td>\n",
       "      <td>0</td>\n",
       "    </tr>\n",
       "  </tbody>\n",
       "</table>\n",
       "</div>"
      ],
      "text/plain": [
       "   respiration_rate  blood_oxygen  sleeping_hours  heart_rate  stress_level\n",
       "0            25.680        89.840           1.840       74.20             3\n",
       "1            25.104        89.552           1.552       72.76             3\n",
       "2            20.000        95.000           7.000       60.00             1\n",
       "3            23.536        88.768           0.768       68.84             3\n",
       "4            17.248        96.248           8.248       53.12             0"
      ]
     },
     "execution_count": 35,
     "metadata": {},
     "output_type": "execute_result"
    }
   ],
   "source": [
    "data.drop('snoring_rate', inplace=True, axis=1)\n",
    "data.drop('limb_movement', inplace=True, axis=1)\n",
    "data.drop('eye_movement', inplace=True, axis=1)\n",
    "data.drop('body_temperature', inplace=True, axis=1)\n",
    "data.head()"
   ]
  },
  {
   "cell_type": "code",
   "execution_count": 36,
   "metadata": {},
   "outputs": [
    {
     "name": "stdout",
     "output_type": "stream",
     "text": [
      "(504, 4) (126, 4)\n",
      "     respiration_rate  blood_oxygen  sleeping_hours  heart_rate\n",
      "303            25.136        89.568           1.568       72.84\n",
      "186            16.816        95.816           7.816       52.04\n",
      "12             17.440        96.440           8.440       53.60\n",
      "8              16.112        95.112           7.112       50.28\n",
      "543            29.296        86.944           0.000       83.24\n"
     ]
    }
   ],
   "source": [
    "from sklearn.model_selection import train_test_split\n",
    "X_train, X_test, y_train, y_test=train_test_split(data.iloc[:, :8], data['stress_level'], \\\n",
    "                                                  test_size=0.2, random_state=8)\n",
    "X_train.drop('stress_level', inplace=True, axis=1)\n",
    "X_test.drop('stress_level', inplace=True, axis=1)\n",
    "print(X_train.shape, X_test.shape)\n",
    "print(X_train[:5])"
   ]
  },
  {
   "cell_type": "code",
   "execution_count": 37,
   "metadata": {},
   "outputs": [
    {
     "data": {
      "text/plain": [
       "array([[0., 0., 0., 1., 0.],\n",
       "       [1., 0., 0., 0., 0.],\n",
       "       [1., 0., 0., 0., 0.],\n",
       "       [1., 0., 0., 0., 0.],\n",
       "       [0., 0., 0., 0., 1.]], dtype=float32)"
      ]
     },
     "execution_count": 37,
     "metadata": {},
     "output_type": "execute_result"
    }
   ],
   "source": [
    "from tensorflow.keras.utils import to_categorical\n",
    "\n",
    "num_classes=5\n",
    "y_train=to_categorical(y_train, num_classes)\n",
    "y_test=to_categorical(y_test, num_classes)\n",
    "y_train[:5]"
   ]
  },
  {
   "cell_type": "code",
   "execution_count": 38,
   "metadata": {},
   "outputs": [],
   "source": [
    "from tensorflow.keras.models import Sequential\n",
    "from tensorflow.keras.layers import Dense, Dropout\n",
    "\n",
    "model=Sequential()\n",
    "model.add(Dense(125, activation=\"relu\"))\n",
    "model.add(Dense(125, activation=\"relu\"))\n",
    "model.add(Dense(5, \"softmax\"))"
   ]
  },
  {
   "cell_type": "code",
   "execution_count": 39,
   "metadata": {},
   "outputs": [
    {
     "name": "stdout",
     "output_type": "stream",
     "text": [
      "Epoch 1/50\n",
      "13/13 [==============================] - 0s 11ms/step - loss: 4.8828 - accuracy: 0.2308 - val_loss: 1.7619 - val_accuracy: 0.3366\n",
      "Epoch 2/50\n",
      "13/13 [==============================] - 0s 3ms/step - loss: 1.3507 - accuracy: 0.5409 - val_loss: 1.1001 - val_accuracy: 0.3762\n",
      "Epoch 3/50\n",
      "13/13 [==============================] - 0s 3ms/step - loss: 0.8359 - accuracy: 0.6923 - val_loss: 0.7093 - val_accuracy: 0.8119\n",
      "Epoch 4/50\n",
      "13/13 [==============================] - 0s 3ms/step - loss: 0.5961 - accuracy: 0.9305 - val_loss: 0.6830 - val_accuracy: 0.7426\n",
      "Epoch 5/50\n",
      "13/13 [==============================] - 0s 3ms/step - loss: 0.5579 - accuracy: 0.9206 - val_loss: 0.5097 - val_accuracy: 1.0000\n",
      "Epoch 6/50\n",
      "13/13 [==============================] - 0s 3ms/step - loss: 0.4759 - accuracy: 0.9752 - val_loss: 0.5188 - val_accuracy: 0.7426\n",
      "Epoch 7/50\n",
      "13/13 [==============================] - 0s 2ms/step - loss: 0.4430 - accuracy: 0.8809 - val_loss: 0.4932 - val_accuracy: 0.7426\n",
      "Epoch 8/50\n",
      "13/13 [==============================] - 0s 3ms/step - loss: 0.3695 - accuracy: 0.9876 - val_loss: 0.3616 - val_accuracy: 1.0000\n",
      "Epoch 9/50\n",
      "13/13 [==============================] - 0s 3ms/step - loss: 0.3403 - accuracy: 0.9826 - val_loss: 0.4603 - val_accuracy: 0.7030\n",
      "Epoch 10/50\n",
      "13/13 [==============================] - 0s 3ms/step - loss: 0.3323 - accuracy: 0.9653 - val_loss: 0.2951 - val_accuracy: 1.0000\n",
      "Epoch 11/50\n",
      "13/13 [==============================] - 0s 3ms/step - loss: 0.2713 - accuracy: 1.0000 - val_loss: 0.2669 - val_accuracy: 1.0000\n",
      "Epoch 12/50\n",
      "13/13 [==============================] - 0s 3ms/step - loss: 0.2523 - accuracy: 1.0000 - val_loss: 0.2617 - val_accuracy: 1.0000\n",
      "Epoch 13/50\n",
      "13/13 [==============================] - 0s 2ms/step - loss: 0.2223 - accuracy: 1.0000 - val_loss: 0.2395 - val_accuracy: 1.0000\n",
      "Epoch 14/50\n",
      "13/13 [==============================] - 0s 3ms/step - loss: 0.2225 - accuracy: 0.9975 - val_loss: 0.2108 - val_accuracy: 1.0000\n",
      "Epoch 15/50\n",
      "13/13 [==============================] - 0s 2ms/step - loss: 0.1989 - accuracy: 1.0000 - val_loss: 0.2251 - val_accuracy: 1.0000\n",
      "Epoch 16/50\n",
      "13/13 [==============================] - 0s 3ms/step - loss: 0.1655 - accuracy: 1.0000 - val_loss: 0.1619 - val_accuracy: 1.0000\n",
      "Epoch 17/50\n",
      "13/13 [==============================] - 0s 3ms/step - loss: 0.1522 - accuracy: 1.0000 - val_loss: 0.1933 - val_accuracy: 1.0000\n",
      "Epoch 18/50\n",
      "13/13 [==============================] - 0s 3ms/step - loss: 0.1372 - accuracy: 1.0000 - val_loss: 0.1309 - val_accuracy: 1.0000\n",
      "Epoch 19/50\n",
      "13/13 [==============================] - 0s 2ms/step - loss: 0.1167 - accuracy: 1.0000 - val_loss: 0.1175 - val_accuracy: 1.0000\n",
      "Epoch 20/50\n",
      "13/13 [==============================] - 0s 3ms/step - loss: 0.1083 - accuracy: 1.0000 - val_loss: 0.1080 - val_accuracy: 1.0000\n",
      "Epoch 21/50\n",
      "13/13 [==============================] - 0s 2ms/step - loss: 0.0988 - accuracy: 1.0000 - val_loss: 0.1034 - val_accuracy: 1.0000\n",
      "Epoch 22/50\n",
      "13/13 [==============================] - 0s 2ms/step - loss: 0.0891 - accuracy: 1.0000 - val_loss: 0.1030 - val_accuracy: 1.0000\n",
      "Epoch 23/50\n",
      "13/13 [==============================] - 0s 2ms/step - loss: 0.0828 - accuracy: 1.0000 - val_loss: 0.0866 - val_accuracy: 1.0000\n",
      "Epoch 24/50\n",
      "13/13 [==============================] - 0s 3ms/step - loss: 0.0768 - accuracy: 1.0000 - val_loss: 0.0876 - val_accuracy: 1.0000\n",
      "Epoch 25/50\n",
      "13/13 [==============================] - 0s 3ms/step - loss: 0.0690 - accuracy: 1.0000 - val_loss: 0.0723 - val_accuracy: 1.0000\n",
      "Epoch 26/50\n",
      "13/13 [==============================] - 0s 3ms/step - loss: 0.0664 - accuracy: 1.0000 - val_loss: 0.0733 - val_accuracy: 1.0000\n",
      "Epoch 27/50\n",
      "13/13 [==============================] - 0s 3ms/step - loss: 0.0631 - accuracy: 1.0000 - val_loss: 0.0667 - val_accuracy: 1.0000\n",
      "Epoch 28/50\n",
      "13/13 [==============================] - 0s 3ms/step - loss: 0.0550 - accuracy: 1.0000 - val_loss: 0.0560 - val_accuracy: 1.0000\n",
      "Epoch 29/50\n",
      "13/13 [==============================] - 0s 3ms/step - loss: 0.0519 - accuracy: 1.0000 - val_loss: 0.0526 - val_accuracy: 1.0000\n",
      "Epoch 30/50\n",
      "13/13 [==============================] - 0s 2ms/step - loss: 0.0489 - accuracy: 1.0000 - val_loss: 0.0507 - val_accuracy: 1.0000\n",
      "Epoch 31/50\n",
      "13/13 [==============================] - 0s 3ms/step - loss: 0.0478 - accuracy: 1.0000 - val_loss: 0.0448 - val_accuracy: 1.0000\n",
      "Epoch 32/50\n",
      "13/13 [==============================] - 0s 2ms/step - loss: 0.0424 - accuracy: 1.0000 - val_loss: 0.0443 - val_accuracy: 1.0000\n",
      "Epoch 33/50\n",
      "13/13 [==============================] - 0s 3ms/step - loss: 0.0407 - accuracy: 1.0000 - val_loss: 0.0407 - val_accuracy: 1.0000\n",
      "Epoch 34/50\n",
      "13/13 [==============================] - 0s 3ms/step - loss: 0.0362 - accuracy: 1.0000 - val_loss: 0.0377 - val_accuracy: 1.0000\n",
      "Epoch 35/50\n",
      "13/13 [==============================] - 0s 3ms/step - loss: 0.0365 - accuracy: 1.0000 - val_loss: 0.0350 - val_accuracy: 1.0000\n",
      "Epoch 36/50\n",
      "13/13 [==============================] - 0s 3ms/step - loss: 0.0334 - accuracy: 1.0000 - val_loss: 0.0331 - val_accuracy: 1.0000\n",
      "Epoch 37/50\n",
      "13/13 [==============================] - 0s 3ms/step - loss: 0.0300 - accuracy: 1.0000 - val_loss: 0.0309 - val_accuracy: 1.0000\n",
      "Epoch 38/50\n",
      "13/13 [==============================] - 0s 3ms/step - loss: 0.0284 - accuracy: 1.0000 - val_loss: 0.0294 - val_accuracy: 1.0000\n",
      "Epoch 39/50\n",
      "13/13 [==============================] - 0s 3ms/step - loss: 0.0268 - accuracy: 1.0000 - val_loss: 0.0300 - val_accuracy: 1.0000\n",
      "Epoch 40/50\n",
      "13/13 [==============================] - 0s 3ms/step - loss: 0.0255 - accuracy: 1.0000 - val_loss: 0.0262 - val_accuracy: 1.0000\n",
      "Epoch 41/50\n",
      "13/13 [==============================] - 0s 3ms/step - loss: 0.0240 - accuracy: 1.0000 - val_loss: 0.0266 - val_accuracy: 1.0000\n",
      "Epoch 42/50\n",
      "13/13 [==============================] - 0s 3ms/step - loss: 0.0226 - accuracy: 1.0000 - val_loss: 0.0234 - val_accuracy: 1.0000\n",
      "Epoch 43/50\n",
      "13/13 [==============================] - 0s 3ms/step - loss: 0.0210 - accuracy: 1.0000 - val_loss: 0.0243 - val_accuracy: 1.0000\n",
      "Epoch 44/50\n",
      "13/13 [==============================] - 0s 3ms/step - loss: 0.0208 - accuracy: 1.0000 - val_loss: 0.0211 - val_accuracy: 1.0000\n",
      "Epoch 45/50\n",
      "13/13 [==============================] - 0s 3ms/step - loss: 0.0192 - accuracy: 1.0000 - val_loss: 0.0204 - val_accuracy: 1.0000\n",
      "Epoch 46/50\n",
      "13/13 [==============================] - 0s 3ms/step - loss: 0.0188 - accuracy: 1.0000 - val_loss: 0.0191 - val_accuracy: 1.0000\n",
      "Epoch 47/50\n",
      "13/13 [==============================] - 0s 3ms/step - loss: 0.0174 - accuracy: 1.0000 - val_loss: 0.0181 - val_accuracy: 1.0000\n",
      "Epoch 48/50\n",
      "13/13 [==============================] - 0s 3ms/step - loss: 0.0165 - accuracy: 1.0000 - val_loss: 0.0175 - val_accuracy: 1.0000\n",
      "Epoch 49/50\n",
      "13/13 [==============================] - 0s 3ms/step - loss: 0.0162 - accuracy: 1.0000 - val_loss: 0.0171 - val_accuracy: 1.0000\n",
      "Epoch 50/50\n",
      "13/13 [==============================] - 0s 3ms/step - loss: 0.0152 - accuracy: 1.0000 - val_loss: 0.0157 - val_accuracy: 1.0000\n"
     ]
    }
   ],
   "source": [
    "epochs=50\n",
    "model.compile(loss='categorical_crossentropy', optimizer='adam', metrics=['accuracy'])\n",
    "stats=model.fit(X_train, y_train, epochs=epochs, validation_split=0.2)"
   ]
  },
  {
   "cell_type": "code",
   "execution_count": 40,
   "metadata": {},
   "outputs": [
    {
     "data": {
      "image/png": "[encoded data removed]",
      "text/plain": [
       "<Figure size 720x576 with 1 Axes>"
      ]
     },
     "metadata": {
      "needs_background": "light"
     },
     "output_type": "display_data"
    }
   ],
   "source": [
    "import matplotlib.pyplot as plot\n",
    "import seaborn as sb\n",
    "\n",
    "stats_df=pd.DataFrame(stats.history)\n",
    "stats_df['epoch']=list(range(epochs))\n",
    "plot.figure(figsize=(10, 8))\n",
    "sb.lineplot(y='accuracy', x='epoch', data=stats_df, color='deeppink', linewidth=2.5, label=\"Training accuracy\")\n",
    "sb.lineplot(y='val_accuracy', x='epoch', data=stats_df, color='darkturquoise', linewidth=2.5, \\\n",
    "            label=\"Validation accuracy\")\n",
    "plot.grid()\n",
    "plot.legend()\n",
    "plot.title(\"Training and validation accuracy\")\n",
    "plot.xticks(range(0, 51, 5));"
   ]
  },
  {
   "cell_type": "code",
   "execution_count": 41,
   "metadata": {},
   "outputs": [
    {
     "name": "stdout",
     "output_type": "stream",
     "text": [
      "4/4 [==============================] - 0s 1ms/step - loss: 0.0154 - accuracy: 1.0000\n"
     ]
    }
   ],
   "source": [
    "_, accuracy=model.evaluate(X_test, y_test)"
   ]
  },
  {
   "cell_type": "code",
   "execution_count": 42,
   "metadata": {},
   "outputs": [
    {
     "name": "stdout",
     "output_type": "stream",
     "text": [
      "INFO:tensorflow:Assets written to: stress_classifier\\assets\n"
     ]
    }
   ],
   "source": [
    "import os\n",
    "checkpoint_path = \"stress_classifier\"\n",
    "checkpoint_dir = os.path.dirname(checkpoint_path)\n",
    "\n",
    "# Create a callback that saves the model\n",
    "model.save(checkpoint_path)\n"
   ]
  }
 ],
 "metadata": {
  "kernelspec": {
   "display_name": "Python 3.8.13 ('exe_eng_env')",
   "language": "python",
   "name": "python3"
  },
  "language_info": {
   "codemirror_mode": {
    "name": "ipython",
    "version": 3
   },
   "file_extension": ".py",
   "mimetype": "text/x-python",
   "name": "python",
   "nbconvert_exporter": "python",
   "pygments_lexer": "ipython3",
   "version": "3.8.13"
  },
  "orig_nbformat": 4,
  "vscode": {
   "interpreter": {
    "hash": "5ce912e916508aacebbdc23ebfb354b6e217cdbd7da856889f475257edd06b8a"
   }
  }
 },
 "nbformat": 4,
 "nbformat_minor": 2
}
